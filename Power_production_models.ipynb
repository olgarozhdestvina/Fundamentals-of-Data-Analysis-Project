{
 "cells": [
  {
   "cell_type": "markdown",
   "metadata": {},
   "source": [
    "# Wind Turbine Power Production\n",
    "___\n",
    "\n",
    "###  Project assessment\n",
    "#### [Fundamentals of Data Analysis Module GMIT 2020 ]\n",
    "\n",
    "<br>\n",
    "\n",
    "<img align=\"left\" width=\"300\" src=\"https://www.pinclipart.com/picdir/big/153-1532157_wind-turbine-icon-on-green-background-wind-turbine.png\">\n",
    "<br>"
   ]
  },
  {
   "cell_type": "markdown",
   "metadata": {},
   "source": [
    "<br>\n",
    "\n",
    "Lecturer: _[Ian McLoughlin](https://github.com/ianmcloughlin)_\n",
    "\n",
    "Completed by: *Olga Rozhdestvina (G00387844@gmit.ie)*\n",
    "\n",
    "---"
   ]
  },
  {
   "cell_type": "markdown",
   "metadata": {},
   "source": [
    "## Table of Contents\n",
    "\n",
    "* [Overview](#overview)\n",
    "* [General Setup](#setup)\n",
    "* [Reading the Data and Performing Basic Data Checks](#loading_data)\n",
    "* [Data Preprocessing](#preproccesing)\n",
    "    * [Removing Outliers](#outliers)\n",
    "    * [Creating Arrays for the Speed and the Power Variables](#arrays)\n",
    "    * [Scaling](#scale)\n",
    "    * [Creating the Training and Test Data sets](#split)\n",
    "* [Build, Predict, and Evaluate the Models](#models)\n",
    "    * [](#)\n",
    "    * [](#)\n",
    "    * [](#)"
   ]
  },
  {
   "cell_type": "markdown",
   "metadata": {},
   "source": [
    "<br>\n",
    "\n",
    "### Overview. <a name=\"overview\"></a>\n",
    "___\n",
    "\n",
    "Wind turbine power output is known for having a strong correlation with wind speed. In this work, three models were built for predicting the turbine response for a given wind speed: Simple Linear Regression [1],  [2], and  [3]. The notebook also includes an analysis of a data set **powerproduction** and its preprocessing. \n",
    "\n",
    "The performance evaluation of the models was conducted using two metrics - R-squared regression score [4] and Root Mean Squared Error (RMSE) [5]. The indicators of a good model are low RMSE and high R-squared regression score.\n",
    "\n",
    "> [1] [numpy.polyfit](https://numpy.org/doc/stable/reference/generated/numpy.polyfit.html)\n",
    "<br>\n",
    "[2] []()\n",
    "<br>\n",
    "[3] []()\n",
    "<br>\n",
    "[4] [How to calculate R squared with NumPy in Python]( https://www.kite.com/python/answers/how-to-calculate-r-squared-with-numpy-in-python)\n",
    "<br>\n",
    "[5] [How to calculate RMSE using IPython/NumPy?](https://stackoverflow.com/questions/21926020/how-to-calculate-rmse-using-ipython-numpy)"
   ]
  },
  {
   "cell_type": "markdown",
   "metadata": {},
   "source": [
    "<br>\n",
    "\n",
    "### General Setup. <a name=\"setup\"></a>\n",
    "___"
   ]
  },
  {
   "cell_type": "code",
   "execution_count": 1,
   "metadata": {},
   "outputs": [],
   "source": [
    "# Numerical arrays.\n",
    "import numpy as np\n",
    "\n",
    "# Data frames.\n",
    "import pandas as pd\n",
    "\n",
    "from scipy import stats\n",
    "# Plotting.\n",
    "import matplotlib.pyplot as plt\n",
    "\n",
    "%matplotlib inline"
   ]
  },
  {
   "cell_type": "code",
   "execution_count": 2,
   "metadata": {},
   "outputs": [],
   "source": [
    "# Style for plots.\n",
    "plt.style.use('ggplot')\n",
    "plt.rcParams[\"figure.titlesize\"] = 18\n",
    "\n",
    "# Plot size.\n",
    "plt.rcParams['figure.figsize'] = [14, 8]"
   ]
  },
  {
   "cell_type": "markdown",
   "metadata": {},
   "source": [
    "<br>\n",
    "\n",
    "### Reading the Data and Performing Basic Data Checks. <a name=\"loading_data\"></a>\n",
    "___\n"
   ]
  },
  {
   "cell_type": "code",
   "execution_count": 3,
   "metadata": {},
   "outputs": [
    {
     "data": {
      "text/html": [
       "<div>\n",
       "<style scoped>\n",
       "    .dataframe tbody tr th:only-of-type {\n",
       "        vertical-align: middle;\n",
       "    }\n",
       "\n",
       "    .dataframe tbody tr th {\n",
       "        vertical-align: top;\n",
       "    }\n",
       "\n",
       "    .dataframe thead th {\n",
       "        text-align: right;\n",
       "    }\n",
       "</style>\n",
       "<table border=\"1\" class=\"dataframe\">\n",
       "  <thead>\n",
       "    <tr style=\"text-align: right;\">\n",
       "      <th></th>\n",
       "      <th>speed</th>\n",
       "      <th>power</th>\n",
       "    </tr>\n",
       "  </thead>\n",
       "  <tbody>\n",
       "    <tr>\n",
       "      <th>0</th>\n",
       "      <td>0.000</td>\n",
       "      <td>0.0</td>\n",
       "    </tr>\n",
       "    <tr>\n",
       "      <th>1</th>\n",
       "      <td>0.125</td>\n",
       "      <td>0.0</td>\n",
       "    </tr>\n",
       "    <tr>\n",
       "      <th>2</th>\n",
       "      <td>0.150</td>\n",
       "      <td>0.0</td>\n",
       "    </tr>\n",
       "    <tr>\n",
       "      <th>3</th>\n",
       "      <td>0.225</td>\n",
       "      <td>0.0</td>\n",
       "    </tr>\n",
       "    <tr>\n",
       "      <th>4</th>\n",
       "      <td>0.275</td>\n",
       "      <td>0.0</td>\n",
       "    </tr>\n",
       "    <tr>\n",
       "      <th>...</th>\n",
       "      <td>...</td>\n",
       "      <td>...</td>\n",
       "    </tr>\n",
       "    <tr>\n",
       "      <th>495</th>\n",
       "      <td>24.775</td>\n",
       "      <td>0.0</td>\n",
       "    </tr>\n",
       "    <tr>\n",
       "      <th>496</th>\n",
       "      <td>24.850</td>\n",
       "      <td>0.0</td>\n",
       "    </tr>\n",
       "    <tr>\n",
       "      <th>497</th>\n",
       "      <td>24.875</td>\n",
       "      <td>0.0</td>\n",
       "    </tr>\n",
       "    <tr>\n",
       "      <th>498</th>\n",
       "      <td>24.950</td>\n",
       "      <td>0.0</td>\n",
       "    </tr>\n",
       "    <tr>\n",
       "      <th>499</th>\n",
       "      <td>25.000</td>\n",
       "      <td>0.0</td>\n",
       "    </tr>\n",
       "  </tbody>\n",
       "</table>\n",
       "<p>500 rows × 2 columns</p>\n",
       "</div>"
      ],
      "text/plain": [
       "      speed  power\n",
       "0     0.000    0.0\n",
       "1     0.125    0.0\n",
       "2     0.150    0.0\n",
       "3     0.225    0.0\n",
       "4     0.275    0.0\n",
       "..      ...    ...\n",
       "495  24.775    0.0\n",
       "496  24.850    0.0\n",
       "497  24.875    0.0\n",
       "498  24.950    0.0\n",
       "499  25.000    0.0\n",
       "\n",
       "[500 rows x 2 columns]"
      ]
     },
     "execution_count": 3,
     "metadata": {},
     "output_type": "execute_result"
    }
   ],
   "source": [
    "# Load the data set.\n",
    "df = pd.read_csv(\"powerproduction.txt\")\n",
    "\n",
    "# Display the data frame.\n",
    "df"
   ]
  },
  {
   "cell_type": "markdown",
   "metadata": {},
   "source": [
    "The data set has 500 rows and 2 columns with two numerical variables, **speed** and **power**, which are represented by real numbers. There are no empty values in the data set."
   ]
  },
  {
   "cell_type": "code",
   "execution_count": 4,
   "metadata": {},
   "outputs": [
    {
     "data": {
      "text/html": [
       "<div>\n",
       "<style scoped>\n",
       "    .dataframe tbody tr th:only-of-type {\n",
       "        vertical-align: middle;\n",
       "    }\n",
       "\n",
       "    .dataframe tbody tr th {\n",
       "        vertical-align: top;\n",
       "    }\n",
       "\n",
       "    .dataframe thead th {\n",
       "        text-align: right;\n",
       "    }\n",
       "</style>\n",
       "<table border=\"1\" class=\"dataframe\">\n",
       "  <thead>\n",
       "    <tr style=\"text-align: right;\">\n",
       "      <th></th>\n",
       "      <th>speed</th>\n",
       "      <th>power</th>\n",
       "    </tr>\n",
       "  </thead>\n",
       "  <tbody>\n",
       "    <tr>\n",
       "      <th>count</th>\n",
       "      <td>500.000000</td>\n",
       "      <td>500.000000</td>\n",
       "    </tr>\n",
       "    <tr>\n",
       "      <th>mean</th>\n",
       "      <td>12.590398</td>\n",
       "      <td>48.014584</td>\n",
       "    </tr>\n",
       "    <tr>\n",
       "      <th>std</th>\n",
       "      <td>7.224991</td>\n",
       "      <td>41.614572</td>\n",
       "    </tr>\n",
       "    <tr>\n",
       "      <th>min</th>\n",
       "      <td>0.000000</td>\n",
       "      <td>0.000000</td>\n",
       "    </tr>\n",
       "    <tr>\n",
       "      <th>25%</th>\n",
       "      <td>6.324750</td>\n",
       "      <td>5.288000</td>\n",
       "    </tr>\n",
       "    <tr>\n",
       "      <th>50%</th>\n",
       "      <td>12.550500</td>\n",
       "      <td>41.645500</td>\n",
       "    </tr>\n",
       "    <tr>\n",
       "      <th>75%</th>\n",
       "      <td>18.775250</td>\n",
       "      <td>93.537000</td>\n",
       "    </tr>\n",
       "    <tr>\n",
       "      <th>max</th>\n",
       "      <td>25.000000</td>\n",
       "      <td>113.556000</td>\n",
       "    </tr>\n",
       "  </tbody>\n",
       "</table>\n",
       "</div>"
      ],
      "text/plain": [
       "            speed       power\n",
       "count  500.000000  500.000000\n",
       "mean    12.590398   48.014584\n",
       "std      7.224991   41.614572\n",
       "min      0.000000    0.000000\n",
       "25%      6.324750    5.288000\n",
       "50%     12.550500   41.645500\n",
       "75%     18.775250   93.537000\n",
       "max     25.000000  113.556000"
      ]
     },
     "execution_count": 4,
     "metadata": {},
     "output_type": "execute_result"
    }
   ],
   "source": [
    "# Generate descriptive statistics.\n",
    "df.describe()"
   ]
  },
  {
   "cell_type": "markdown",
   "metadata": {},
   "source": [
    "The mean speed is 12.59, while the mean power stands at 48.01. Moreover, there is a difference in the scale of the variables: speed has a range between 0.00 to 25.00 and power - between 0.00 and 113.556. This difference will be addressed in the preprocessing."
   ]
  },
  {
   "cell_type": "code",
   "execution_count": 5,
   "metadata": {},
   "outputs": [
    {
     "data": {
      "image/png": "[encoded data removed]",
      "text/plain": [
       "<Figure size 1008x576 with 1 Axes>"
      ]
     },
     "metadata": {},
     "output_type": "display_data"
    }
   ],
   "source": [
    "# Create a figure. axis and title.\n",
    "fig,ax = plt.subplots()\n",
    "fig.suptitle(\"Wind Turbine Power Production\")\n",
    "\n",
    "# Plot the data.\n",
    "ax.scatter(df.speed, df.power,edgecolor=\"black\")\n",
    "\n",
    "# Show the plot.\n",
    "plt.show()"
   ]
  },
  {
   "cell_type": "markdown",
   "metadata": {},
   "source": [
    "The above plot shows that the data follows a polynomial regression. The relationship between Power and Speed predominantly takes an \"S\"-shape. The power rises dramatically with speed over about 8 m/s and slows when the speed reaches about 17 m/s.\n",
    "\n",
    "Additionally, we can see some outliers where the speed is between 5 m/s and 24 m/s. However, the power is still 0. The 0 power points for around 25 m/s wind speed might be suggestting the shutdown of the wind turbine for damage mitigation, thus I will not consider them as outliners."
   ]
  },
  {
   "cell_type": "markdown",
   "metadata": {},
   "source": [
    "<br>\n",
    "\n",
    "###  Data Preprocessing. <a name=\"preproccesing\"></a>\n",
    "___\n",
    "\n",
    "Prior to building models the data should undergo data preprocessing. \n",
    "\n",
    "There are 4 steps:\n",
    "* Removing Outliers\n",
    "* Creating arrays for the speed and the power.\n",
    "* Scaling to account for the difference in scale of the variables.\n",
    "* Creating the training and test data sets.\n",
    "\n",
    "#### 1. Removing Outliers.  <a name=\"outliers\"></a>\n",
    "The first step is to remove the outliers from our data set. [5]\n",
    "\n",
    "> [5] [Delete rows based on multiple conditions; including other column conditionals](https://stackoverflow.com/questions/31997992/delete-rows-based-on-multiple-conditions-including-other-column-conditionals)"
   ]
  },
  {
   "cell_type": "code",
   "execution_count": 6,
   "metadata": {
    "scrolled": false
   },
   "outputs": [
    {
     "data": {
      "text/html": [
       "<div>\n",
       "<style scoped>\n",
       "    .dataframe tbody tr th:only-of-type {\n",
       "        vertical-align: middle;\n",
       "    }\n",
       "\n",
       "    .dataframe tbody tr th {\n",
       "        vertical-align: top;\n",
       "    }\n",
       "\n",
       "    .dataframe thead th {\n",
       "        text-align: right;\n",
       "    }\n",
       "</style>\n",
       "<table border=\"1\" class=\"dataframe\">\n",
       "  <thead>\n",
       "    <tr style=\"text-align: right;\">\n",
       "      <th></th>\n",
       "      <th>speed</th>\n",
       "      <th>power</th>\n",
       "    </tr>\n",
       "  </thead>\n",
       "  <tbody>\n",
       "    <tr>\n",
       "      <th>0</th>\n",
       "      <td>0.000</td>\n",
       "      <td>0.0</td>\n",
       "    </tr>\n",
       "    <tr>\n",
       "      <th>1</th>\n",
       "      <td>0.125</td>\n",
       "      <td>0.0</td>\n",
       "    </tr>\n",
       "    <tr>\n",
       "      <th>2</th>\n",
       "      <td>0.150</td>\n",
       "      <td>0.0</td>\n",
       "    </tr>\n",
       "    <tr>\n",
       "      <th>3</th>\n",
       "      <td>0.225</td>\n",
       "      <td>0.0</td>\n",
       "    </tr>\n",
       "    <tr>\n",
       "      <th>4</th>\n",
       "      <td>0.275</td>\n",
       "      <td>0.0</td>\n",
       "    </tr>\n",
       "    <tr>\n",
       "      <th>...</th>\n",
       "      <td>...</td>\n",
       "      <td>...</td>\n",
       "    </tr>\n",
       "    <tr>\n",
       "      <th>495</th>\n",
       "      <td>24.775</td>\n",
       "      <td>0.0</td>\n",
       "    </tr>\n",
       "    <tr>\n",
       "      <th>496</th>\n",
       "      <td>24.850</td>\n",
       "      <td>0.0</td>\n",
       "    </tr>\n",
       "    <tr>\n",
       "      <th>497</th>\n",
       "      <td>24.875</td>\n",
       "      <td>0.0</td>\n",
       "    </tr>\n",
       "    <tr>\n",
       "      <th>498</th>\n",
       "      <td>24.950</td>\n",
       "      <td>0.0</td>\n",
       "    </tr>\n",
       "    <tr>\n",
       "      <th>499</th>\n",
       "      <td>25.000</td>\n",
       "      <td>0.0</td>\n",
       "    </tr>\n",
       "  </tbody>\n",
       "</table>\n",
       "<p>487 rows × 2 columns</p>\n",
       "</div>"
      ],
      "text/plain": [
       "      speed  power\n",
       "0     0.000    0.0\n",
       "1     0.125    0.0\n",
       "2     0.150    0.0\n",
       "3     0.225    0.0\n",
       "4     0.275    0.0\n",
       "..      ...    ...\n",
       "495  24.775    0.0\n",
       "496  24.850    0.0\n",
       "497  24.875    0.0\n",
       "498  24.950    0.0\n",
       "499  25.000    0.0\n",
       "\n",
       "[487 rows x 2 columns]"
      ]
     },
     "execution_count": 6,
     "metadata": {},
     "output_type": "execute_result"
    }
   ],
   "source": [
    "# Remove Outliers.\n",
    "df_new = df.drop(df[(df.power == 0) & (df.speed > 5) &  (df.speed < 24)].index)\n",
    "\n",
    "# Display the cleaned data set.\n",
    "df_new"
   ]
  },
  {
   "cell_type": "code",
   "execution_count": 7,
   "metadata": {},
   "outputs": [
    {
     "data": {
      "image/png": "[encoded data removed]",
      "text/plain": [
       "<Figure size 1008x576 with 1 Axes>"
      ]
     },
     "metadata": {},
     "output_type": "display_data"
    }
   ],
   "source": [
    "# Create a figure. axis and title.\n",
    "fig,ax = plt.subplots()\n",
    "fig.suptitle(\"Wind Turbine Power Production\")\n",
    "ax.set_title(\"without outliers\")\n",
    "\n",
    "# Plot the data.\n",
    "ax.scatter(df_new.speed, df_new.power,edgecolor=\"black\")\n",
    "\n",
    "# Show the plot.\n",
    "plt.show()"
   ]
  },
  {
   "cell_type": "markdown",
   "metadata": {},
   "source": [
    "<br>\n",
    "\n",
    "#### 2. Creating Arrays for the Speed and the Power Variables.  <a name=\"arrays\"></a>\n",
    "\n",
    "Now the data set should be separated for speed and power values. I will also preprocess a few speed samples for 0 m/s, 30 m/s, 70 m/s as it is known from the data set that the power output should be 0. "
   ]
  },
  {
   "cell_type": "code",
   "execution_count": 8,
   "metadata": {},
   "outputs": [],
   "source": [
    "# Separate speed and power.\n",
    "speed = df_new.iloc[:, 0].values\n",
    "power = df_new.iloc[:, 1].values\n",
    "\n",
    "# Convert them into a numpy array and reshape.\n",
    "X = np.array(speed)\n",
    "y = np.array(power)\n",
    "\n",
    "# Test for 0, 30 and 70 m/s speed\n",
    "s_0 = np.array(0)\n",
    "s_30 = np.array(30)\n",
    "s_70 = np.array(70)"
   ]
  },
  {
   "cell_type": "markdown",
   "metadata": {},
   "source": [
    "<br>\n",
    "\n",
    "#### 3. Scaling. <a name=\"scale\"></a>\n",
    "Next we can scale the variables. By comparing different scalers I reached the conclusion that the best results are achieved with MinMaxScaler. [6]\n",
    "\n",
    "> [6] [Normalization Techniques in Python Using NumPy](https://towardsdatascience.com/normalization-techniques-in-python-using-numpy-b998aa81d754)"
   ]
  },
  {
   "cell_type": "code",
   "execution_count": 9,
   "metadata": {},
   "outputs": [
    {
     "data": {
      "text/html": [
       "<div>\n",
       "<style scoped>\n",
       "    .dataframe tbody tr th:only-of-type {\n",
       "        vertical-align: middle;\n",
       "    }\n",
       "\n",
       "    .dataframe tbody tr th {\n",
       "        vertical-align: top;\n",
       "    }\n",
       "\n",
       "    .dataframe thead th {\n",
       "        text-align: right;\n",
       "    }\n",
       "</style>\n",
       "<table border=\"1\" class=\"dataframe\">\n",
       "  <thead>\n",
       "    <tr style=\"text-align: right;\">\n",
       "      <th></th>\n",
       "      <th>speed</th>\n",
       "      <th>power</th>\n",
       "    </tr>\n",
       "  </thead>\n",
       "  <tbody>\n",
       "    <tr>\n",
       "      <th>0</th>\n",
       "      <td>0.000</td>\n",
       "      <td>0.0</td>\n",
       "    </tr>\n",
       "    <tr>\n",
       "      <th>1</th>\n",
       "      <td>0.005</td>\n",
       "      <td>0.0</td>\n",
       "    </tr>\n",
       "    <tr>\n",
       "      <th>2</th>\n",
       "      <td>0.006</td>\n",
       "      <td>0.0</td>\n",
       "    </tr>\n",
       "    <tr>\n",
       "      <th>3</th>\n",
       "      <td>0.009</td>\n",
       "      <td>0.0</td>\n",
       "    </tr>\n",
       "    <tr>\n",
       "      <th>4</th>\n",
       "      <td>0.011</td>\n",
       "      <td>0.0</td>\n",
       "    </tr>\n",
       "    <tr>\n",
       "      <th>...</th>\n",
       "      <td>...</td>\n",
       "      <td>...</td>\n",
       "    </tr>\n",
       "    <tr>\n",
       "      <th>482</th>\n",
       "      <td>0.991</td>\n",
       "      <td>0.0</td>\n",
       "    </tr>\n",
       "    <tr>\n",
       "      <th>483</th>\n",
       "      <td>0.994</td>\n",
       "      <td>0.0</td>\n",
       "    </tr>\n",
       "    <tr>\n",
       "      <th>484</th>\n",
       "      <td>0.995</td>\n",
       "      <td>0.0</td>\n",
       "    </tr>\n",
       "    <tr>\n",
       "      <th>485</th>\n",
       "      <td>0.998</td>\n",
       "      <td>0.0</td>\n",
       "    </tr>\n",
       "    <tr>\n",
       "      <th>486</th>\n",
       "      <td>1.000</td>\n",
       "      <td>0.0</td>\n",
       "    </tr>\n",
       "  </tbody>\n",
       "</table>\n",
       "<p>487 rows × 2 columns</p>\n",
       "</div>"
      ],
      "text/plain": [
       "     speed  power\n",
       "0    0.000    0.0\n",
       "1    0.005    0.0\n",
       "2    0.006    0.0\n",
       "3    0.009    0.0\n",
       "4    0.011    0.0\n",
       "..     ...    ...\n",
       "482  0.991    0.0\n",
       "483  0.994    0.0\n",
       "484  0.995    0.0\n",
       "485  0.998    0.0\n",
       "486  1.000    0.0\n",
       "\n",
       "[487 rows x 2 columns]"
      ]
     },
     "execution_count": 9,
     "metadata": {},
     "output_type": "execute_result"
    }
   ],
   "source": [
    "# Create a instance of a scaler.\n",
    "X_scaled = (X - np.min(X)) / (np.ptp(X))\n",
    "y_scaled = (y - np.min(y)) / (np.ptp(y))\n",
    "\n",
    "# Rescaled data set.\n",
    "df_rescaled = pd.DataFrame({\"speed\":X_scaled, \"power\":y_scaled})\n",
    "df_rescaled"
   ]
  },
  {
   "cell_type": "markdown",
   "metadata": {},
   "source": [
    "<br>\n",
    "\n",
    "#### 4. Creating the Training and Test Data sets.  <a name=\"split\"></a>\n",
    "We will build our model on the training set and evaluate its performance on the test set.\n",
    "\n",
    "> [7] [Train test split without using scikit learn](https://stackoverflow.com/questions/47202182/train-test-split-without-using-scikit-learn/47202397)\n",
    "<br>\n",
    "[8] [pandas.DataFrame.sample](https://pandas.pydata.org/pandas-docs/stable/reference/api/pandas.DataFrame.sample.html)"
   ]
  },
  {
   "cell_type": "code",
   "execution_count": 10,
   "metadata": {},
   "outputs": [
    {
     "name": "stdout",
     "output_type": "stream",
     "text": [
      "Training set: (340,), (340,)\n",
      "Test set: (147,), (147,)\n"
     ]
    }
   ],
   "source": [
    "# Shuffle the data set \n",
    "shuffle_df = df_rescaled.sample(frac=1, random_state=1)\n",
    "\n",
    "# Define a size for your train set \n",
    "train_size = int(0.7 * len(df_rescaled))\n",
    "\n",
    "# Split the data on training and test\n",
    "speed_train, speed_test = shuffle_df.speed[:train_size].values, shuffle_df.speed[train_size:].values\n",
    "power_train, power_test = shuffle_df.power[:train_size].values, shuffle_df.power[train_size:].values\n",
    "\n",
    "# Print the shape of the new sets.\n",
    "print(f\"Training set: {speed_train.shape}, {power_train.shape}\")\n",
    "print(f\"Test set: {speed_test.shape}, {power_test.shape}\")"
   ]
  },
  {
   "cell_type": "markdown",
   "metadata": {},
   "source": [
    "<br>\n",
    "\n",
    "### Build, Predict, and Evaluate the Models. <a name=\"models\"></a>\n",
    "\n",
    "<br>\n",
    "\n",
    "#### Simple Linear Regression.  <a name=\"lr\"></a>\n",
    "___\n",
    "\n",
    "This model demonstrates how to approximate a function with a polynomial features by using Linear regression. \n",
    "\n",
    "<br>\n",
    "\n",
    "_Model Building._\n",
    "\n",
    "<br>\n",
    "[8] [How to sort with lambda in Python](https://stackoverflow.com/questions/3766633/how-to-sort-with-lambda-in-python)\n"
   ]
  },
  {
   "cell_type": "code",
   "execution_count": 11,
   "metadata": {},
   "outputs": [
    {
     "data": {
      "text/plain": [
       "poly1d([ 1.78071521e+08, -1.47202608e+09,  5.54654863e+09, -1.26142078e+10,\n",
       "        1.93265038e+10, -2.10852722e+10,  1.68835255e+10, -1.00789930e+10,\n",
       "        4.51152090e+09, -1.51066115e+09,  3.74651574e+08, -6.75691293e+07,\n",
       "        8.61025503e+06, -7.42104170e+05,  4.04367243e+04, -1.24476711e+03,\n",
       "        1.73491301e+01, -2.98513614e-02])"
      ]
     },
     "execution_count": 11,
     "metadata": {},
     "output_type": "execute_result"
    }
   ],
   "source": [
    "model = np.polyfit(speed_train, power_train, 17)\n",
    "predict = np.poly1d(model)\n",
    "predict"
   ]
  },
  {
   "cell_type": "markdown",
   "metadata": {},
   "source": [
    "<br>\n",
    "\n",
    "_Prediction_\n",
    "\n",
    "Now that we have the model created, we can make predictions on the training and test data and plot them along with the actual data."
   ]
  },
  {
   "cell_type": "code",
   "execution_count": 12,
   "metadata": {},
   "outputs": [],
   "source": [
    "# Predict power from train and test speed.\n",
    "y_train_pred = predict(speed_train)\n",
    "y_test_pred = predict(speed_test)"
   ]
  },
  {
   "cell_type": "markdown",
   "metadata": {},
   "source": [
    "To view the results the rescaled power needs to be transformed back. [10] [11] For comparison of the actual and predicted power I randomly chose the 3rd row from training power and the 5th from test power. Additionally, I will check if the predicted power is 0 for 0 m/s and 30 m/s (as suggested in our data set. \n",
    "\n",
    "> [10] [scikit-learn: how to scale back the 'y' predicted result](https://stackoverflow.com/questions/38058774/scikit-learn-how-to-scale-back-the-y-predicted-result)\n",
    "<br>\n",
    "[11] [GeeksForGeeks: Remove square brackets from list](https://www.geeksforgeeks.org/python-remove-square-brackets-from-list/)"
   ]
  },
  {
   "cell_type": "code",
   "execution_count": 13,
   "metadata": {},
   "outputs": [
    {
     "name": "stdout",
     "output_type": "stream",
     "text": [
      "TRAINING DATA\n",
      "Actual power:\t 98.07799999999999\n",
      "Predicted power: 95.6140957029623\n",
      "\n",
      "TEST DATA\n",
      "Actual power:\t 65.596\n",
      "Predicted power: 66.37723641836644\n"
     ]
    }
   ],
   "source": [
    "# Unscaling of power.\n",
    "power_train_unscaled = (power_train * np.ptp(y) + np.min(y))[20]\n",
    "power_test_unscaled = (power_test * np.ptp(y) + np.min(y))[32]\n",
    "\n",
    "y_train_unscaled = (y_train_pred * np.ptp(y) + np.min(y))[20]\n",
    "y_test_unscaled = (y_test_pred * np.ptp(y) + np.min(y))[32]\n",
    "\n",
    "# Printing actual and predicted training power.\n",
    "print(f\"TRAINING DATA\\nActual power:\\t {power_train_unscaled}\")\n",
    "print(f\"Predicted power: {y_train_unscaled}\")\n",
    "\n",
    "# Printing actual and predicted test power.\n",
    "print(f\"\\nTEST DATA\\nActual power:\\t {power_test_unscaled}\")\n",
    "print(f\"Predicted power: {y_test_unscaled}\")"
   ]
  },
  {
   "cell_type": "markdown",
   "metadata": {},
   "source": [
    "The above shows a slight underestimation of training power and test power for the chosen samples. As for the samples outside of the data set, we can see that the model predicts correctly 0 output power for 30 m/s and 70 m/s, but not for 0 m/s."
   ]
  },
  {
   "cell_type": "code",
   "execution_count": 14,
   "metadata": {},
   "outputs": [
    {
     "data": {
      "image/png": "[encoded data removed]",
      "text/plain": [
       "<Figure size 1008x1440 with 2 Axes>"
      ]
     },
     "metadata": {},
     "output_type": "display_data"
    }
   ],
   "source": [
    "# Create a figure, axis and titles.\n",
    "fig, [ax1,ax2] = plt.subplots(2,1, figsize=(14,20))\n",
    "fig.suptitle(\"Simple Linear Regression\", y = 0.93)\n",
    "ax1.set_title(\"Predictions on the training data\",y=1.02, fontsize=16)\n",
    "ax2.set_title(\"Predictions on the test data\",y=1.02, fontsize=16)\n",
    "\n",
    "# Plot the actual training data and predictions.\n",
    "ax1.scatter(speed_train, power_train, edgecolor=\"black\",  label=\"Actual\")\n",
    "ax1.scatter(speed_train, y_train_pred, edgecolor=\"y\", label=\"Predicted\")\n",
    "\n",
    "# Plot the actual test data and predictions.\n",
    "ax2.scatter(speed_test, power_test, edgecolor=\"black\",  label=\"Actual\")\n",
    "ax2.scatter(speed_test, y_test_pred, edgecolor=\"y\", label=\"Predicted\")\n",
    "\n",
    "# Show the legend.\n",
    "ax1.legend(loc='upper left', shadow=True)\n",
    "ax2.legend(loc='upper left', shadow=True)\n",
    "\n",
    "# Show the plot.\n",
    "plt.show()"
   ]
  },
  {
   "cell_type": "markdown",
   "metadata": {},
   "source": [
    "The predicted data appears to be well-fitting to the actual data. However, it has negative values and the variables in the original data set are non-negative. \n",
    "\n",
    "<br> \n",
    "\n",
    "_Evaluation_\n",
    "\n",
    "Let's calculate RMSE and R-squared score."
   ]
  },
  {
   "cell_type": "code",
   "execution_count": 15,
   "metadata": {},
   "outputs": [],
   "source": [
    "# R squared score\n",
    "def r_2(x,y):\n",
    "    correlation_matrix = np.corrcoef(x, y)\n",
    "    r_squared = correlation_matrix[0,1]**2\n",
    "    return r_squared\n",
    "\n",
    "# RMSE\n",
    "def rmse(x,y):\n",
    "    rmse = np.sqrt(np.mean((y-x)**2))\n",
    "    return rmse"
   ]
  },
  {
   "cell_type": "code",
   "execution_count": 16,
   "metadata": {},
   "outputs": [
    {
     "name": "stdout",
     "output_type": "stream",
     "text": [
      "TRAINING DATA\n",
      "RMSE: \t\t 0.05393741533489556\n",
      "R-squared Score: 0.9784364719395341\n",
      "\n",
      "TEST DATA\n",
      "RMSE: \t\t 0.061138574267932747\n",
      "R-squared Score: 0.9709413729535764\n"
     ]
    }
   ],
   "source": [
    "# Calculate a score and RMSE.\n",
    "print(\"TRAINING DATA\\nRMSE: \\t\\t\", rmse(power_train,y_train_pred))\n",
    "print(\"R-squared Score:\", r_2(power_train, y_train_pred))\n",
    "\n",
    "print(\"\\nTEST DATA\\nRMSE: \\t\\t\", rmse(power_test,y_test_pred))\n",
    "print(\"R-squared Score:\", r_2(power_test,y_test_pred))"
   ]
  },
  {
   "cell_type": "markdown",
   "metadata": {},
   "source": [
    "The result of computing the metrics confirm a high accuracy of the model."
   ]
  },
  {
   "cell_type": "markdown",
   "metadata": {},
   "source": [
    "<br>\n",
    "\n",
    "#### Decision Tree.  <a name=\"dtree\"></a>\n",
    "___\n",
    "\n",
    "The decision tree model approximates a sigmoid curve through a set of if-then-else decision rules. The complexity of the rules and how well the model fits the data depends on maximum depth. \n",
    "\n",
    "<br>\n",
    "\n",
    "_Model Building._\n",
    "\n",
    "Following the same steps as in the previous model, first we need to determine the best maximum depth for the decision tree.[12]\n",
    "\n",
    "> [12] [Non-Poisson Regression Trees with scikit-learn](https://www.pluralsight.com/guides/non-Poisson-regression-trees-scikit-learn)"
   ]
  },
  {
   "cell_type": "markdown",
   "metadata": {},
   "source": [
    "Thus, 5 is the optimal maximum depth for our data."
   ]
  },
  {
   "cell_type": "markdown",
   "metadata": {},
   "source": [
    "<br> \n",
    "\n",
    "_Prediction_\n"
   ]
  },
  {
   "cell_type": "code",
   "execution_count": 17,
   "metadata": {},
   "outputs": [
    {
     "ename": "NameError",
     "evalue": "name 'scaler' is not defined",
     "output_type": "error",
     "traceback": [
      "\u001b[1;31m---------------------------------------------------------------------------\u001b[0m",
      "\u001b[1;31mNameError\u001b[0m                                 Traceback (most recent call last)",
      "\u001b[1;32m<ipython-input-17-0fcb85fb98c7>\u001b[0m in \u001b[0;36m<module>\u001b[1;34m\u001b[0m\n\u001b[0;32m      1\u001b[0m \u001b[1;31m# Unscaling of power.\u001b[0m\u001b[1;33m\u001b[0m\u001b[1;33m\u001b[0m\u001b[1;33m\u001b[0m\u001b[0m\n\u001b[1;32m----> 2\u001b[1;33m \u001b[0munscaled_train_tree\u001b[0m \u001b[1;33m=\u001b[0m \u001b[0mstr\u001b[0m\u001b[1;33m(\u001b[0m\u001b[0mscaler\u001b[0m\u001b[1;33m.\u001b[0m\u001b[0minverse_transform\u001b[0m\u001b[1;33m(\u001b[0m\u001b[0mpred_train_tree\u001b[0m\u001b[1;33m.\u001b[0m\u001b[0mreshape\u001b[0m\u001b[1;33m(\u001b[0m\u001b[1;33m-\u001b[0m\u001b[1;36m1\u001b[0m\u001b[1;33m,\u001b[0m\u001b[1;36m1\u001b[0m\u001b[1;33m)\u001b[0m\u001b[1;33m)\u001b[0m\u001b[1;33m[\u001b[0m\u001b[1;36m3\u001b[0m\u001b[1;33m]\u001b[0m\u001b[1;33m)\u001b[0m\u001b[1;33m[\u001b[0m\u001b[1;36m1\u001b[0m\u001b[1;33m:\u001b[0m\u001b[1;33m-\u001b[0m\u001b[1;36m1\u001b[0m\u001b[1;33m]\u001b[0m\u001b[1;33m\u001b[0m\u001b[1;33m\u001b[0m\u001b[0m\n\u001b[0m\u001b[0;32m      3\u001b[0m \u001b[0munscaled_test_tree\u001b[0m  \u001b[1;33m=\u001b[0m \u001b[0mstr\u001b[0m\u001b[1;33m(\u001b[0m\u001b[0mscaler\u001b[0m\u001b[1;33m.\u001b[0m\u001b[0minverse_transform\u001b[0m\u001b[1;33m(\u001b[0m\u001b[0mpred_test_tree\u001b[0m\u001b[1;33m.\u001b[0m\u001b[0mreshape\u001b[0m\u001b[1;33m(\u001b[0m\u001b[1;33m-\u001b[0m\u001b[1;36m1\u001b[0m\u001b[1;33m,\u001b[0m\u001b[1;36m1\u001b[0m\u001b[1;33m)\u001b[0m\u001b[1;33m)\u001b[0m\u001b[1;33m[\u001b[0m\u001b[1;36m5\u001b[0m\u001b[1;33m]\u001b[0m\u001b[1;33m)\u001b[0m\u001b[1;33m[\u001b[0m\u001b[1;36m1\u001b[0m\u001b[1;33m:\u001b[0m\u001b[1;33m-\u001b[0m\u001b[1;36m1\u001b[0m\u001b[1;33m]\u001b[0m\u001b[1;33m\u001b[0m\u001b[1;33m\u001b[0m\u001b[0m\n\u001b[0;32m      4\u001b[0m \u001b[1;33m\u001b[0m\u001b[0m\n\u001b[0;32m      5\u001b[0m \u001b[1;31m# Printing actual and predicted training power.\u001b[0m\u001b[1;33m\u001b[0m\u001b[1;33m\u001b[0m\u001b[1;33m\u001b[0m\u001b[0m\n",
      "\u001b[1;31mNameError\u001b[0m: name 'scaler' is not defined"
     ]
    }
   ],
   "source": [
    "# Unscaling of power.\n",
    "unscaled_train_tree = str(scaler.inverse_transform(pred_train_tree.reshape(-1,1))[3])[1:-1] \n",
    "unscaled_test_tree  = str(scaler.inverse_transform(pred_test_tree.reshape(-1,1))[5])[1:-1]\n",
    "\n",
    "# Printing actual and predicted training power.\n",
    "print(f\"TRAINING DATA\\nActual power:\\t {power_train_unscaled}\")\n",
    "print(f\"Predicted power: {unscaled_train_tree}\")\n",
    "\n",
    "# Printing actual and predicted test power.\n",
    "print(f\"\\nTEST DATA\\nActual power:\\t {power_test_unscaled}\")\n",
    "print(f\"Predicted power: {unscaled_test_tree}\")\n",
    "\n",
    "# Printing actual and predicted test power.\n",
    "print(f\"\\nPREDICTED POWER FOR WIND SPEED 0: {str(scaler.inverse_transform(y_0_tree.reshape(-1,1)))[2:-2]}\")\n",
    "print(f\"PREDICTED POWER FOR WIND SPEED 30: {str(scaler.inverse_transform(y_30_tree.reshape(-1,1)))[2:-2]}\")\n",
    "print(f\"PREDICTED POWER FOR WIND SPEED 70: {str(scaler.inverse_transform(y_70_pred.reshape(-1,1)))[2:-2]}\")"
   ]
  },
  {
   "cell_type": "markdown",
   "metadata": {},
   "source": [
    "Here we can see a overestimation of training power and a lower degree of underestimation of test power than in the Poisson Model with Polynomial Features for the chosen samples. However, it predict a higher power output for 0 m/s speed than in the Poisson Model with Polynomial Features."
   ]
  },
  {
   "cell_type": "code",
   "execution_count": null,
   "metadata": {},
   "outputs": [],
   "source": [
    "# Create a figure, axis and titles.\n",
    "fig, [ax1,ax2] = plt.subplots(2,1, figsize=(14,20))\n",
    "fig.suptitle(\"Decision Tree\", y=0.93)\n",
    "ax1.set_title(\"Predictions on the training data\",y=1.02, fontsize=16)\n",
    "ax2.set_title(\"Predictions on the test data\",y=1.02, fontsize=16)\n",
    "\n",
    "# Plot the actual training data and predictions.\n",
    "ax1.scatter(speed_train, power_train, edgecolor=\"black\", label=\"Actual\")\n",
    "ax1.scatter(speed_train, pred_train_tree, edgecolor=\"y\", label=\"Predicted\")\n",
    "\n",
    "# Plot the actual test data and predictions.\n",
    "ax2.scatter(speed_test, power_test, edgecolor=\"black\", label=\"Actual\")\n",
    "ax2.scatter(speed_test, pred_test_tree, edgecolor=\"y\", label=\"Predicted\")\n",
    "\n",
    "# Show the legend.\n",
    "ax1.legend(loc='upper left', shadow=True)\n",
    "ax2.legend(loc='upper left', shadow=True)\n",
    "\n",
    "# Show the plot.\n",
    "plt.show()"
   ]
  },
  {
   "cell_type": "markdown",
   "metadata": {},
   "source": [
    "The plots show quite a different result from the previous model - the predicted data points appear to gather into multiple horizontal lines. Despite this, the predicted data here too seems to fit the actual data well."
   ]
  },
  {
   "cell_type": "markdown",
   "metadata": {},
   "source": [
    "<br> \n",
    "\n",
    "_Evaluation_"
   ]
  },
  {
   "cell_type": "code",
   "execution_count": null,
   "metadata": {},
   "outputs": [],
   "source": [
    "# Calculate a score and RMSE.\n",
    "print(\"TRAINING DATA\\nRMSE: \\t\\t\", mean_squared_error(power_train,pred_train_tree, squared=False))\n",
    "print(\"R-squared Score:\", r2_score(power_train, pred_train_tree))\n",
    "print(\"\\nTEST DATA\\nRMSE: \\t\\t\", mean_squared_error(power_test,pred_test_tree, squared=False))\n",
    "print(\"R-squared Score:\", r2_score(power_test, pred_test_tree))"
   ]
  },
  {
   "cell_type": "markdown",
   "metadata": {},
   "source": [
    "From the above data, it appears that the Decision tree model predicts the data better than the Poisson Regression with Polynomial Features model."
   ]
  },
  {
   "cell_type": "markdown",
   "metadata": {},
   "source": [
    "<br>\n",
    "\n",
    "#### Neural Networks.  <a name=\"nn\"></a>\n",
    "___\n",
    "\n",
    "\n",
    "A Neural Network model works by identifying underlying relationships in the data set. \n",
    "\n",
    "<br>\n",
    "\n",
    "_Model Building._\n",
    "\n",
    "First for enhancement of the future model the Polynomial Features are applied. Earlier it was determined that the best score was achieved with 22 degrees. [13]\n",
    "\n",
    "> [13] [Polynomial Regression using tf.keras](https://medium.com/@anigasan637/polynomial-regression-using-tf-keras-17eaac771256)"
   ]
  },
  {
   "cell_type": "markdown",
   "metadata": {},
   "source": [
    "Now that the data is ready, we can train and compile our neural network model. In our training data set, the input is now of 23 values and output is of 1 value. Thus, the input and output layer is of 23 and 1 dimensions respectively.\n",
    "\n",
    "The model has 3 hidden layers: the first two with ReLU activation and the last with Softplus (the latter is to avoid negative predictions). [14] To get reproducible results I have specified the seed for each kernel initializer. [15] In the model compilation I changed the learning rate for the optimizer from default to 0.01.\n",
    "\n",
    "> [14] [how to prevent negative predictions in keras custom loss function](https://stackoverflow.com/questions/51441690/how-to-prevent-negative-predictions-in-keras-custom-loss-function)\n",
    "<br>\n",
    "[15] [How to get reproducible result when running Keras with Tensorflow backend](https://stackoverflow.com/questions/45230448/how-to-get-reproducible-result-when-running-keras-with-tensorflow-backend)"
   ]
  },
  {
   "cell_type": "markdown",
   "metadata": {},
   "source": [
    "After building and compiling the model, we can fit it to the training data and validate it by the test data. [12]\n",
    "\n",
    "> [13] [How to Control the Stability of Training Neural Networks With the Batch Size](https://machinelearningmastery.com/how-to-control-the-speed-and-stability-of-training-neural-networks-with-gradient-descent-batch-size/)"
   ]
  },
  {
   "cell_type": "markdown",
   "metadata": {},
   "source": [
    "<br>\n",
    "\n",
    "_Prediction_\n"
   ]
  },
  {
   "cell_type": "markdown",
   "metadata": {},
   "source": [
    "The model also indicates a tendency for overestimation of training power and underestimation of test power for the chosen samples, although, in the lower degree than then previous two models. Predicted power for 0 m/s is slightly closer to 0."
   ]
  },
  {
   "cell_type": "markdown",
   "metadata": {},
   "source": [
    "Once again, the plots depict well-fitting predicted data. "
   ]
  },
  {
   "cell_type": "markdown",
   "metadata": {},
   "source": [
    "<br> \n",
    "\n",
    "_Evaluation_"
   ]
  },
  {
   "cell_type": "code",
   "execution_count": null,
   "metadata": {},
   "outputs": [],
   "source": [
    "# Calculate a score and RMSE.\n",
    "print(\"TRAINING DATA\\nRMSE: \\t\\t\", mean_squared_error(power_train,y_nn_train, squared=False))\n",
    "print(\"R-squared Score:\", r2_score(power_train, y_nn_train))\n",
    "\n",
    "print(\"\\nTEST DATA\\nRMSE: \\t\\t\", mean_squared_error(power_test,y_nn_test, squared=False))\n",
    "print(\"R-squared Score:\", r2_score(power_test,y_nn_test))"
   ]
  },
  {
   "cell_type": "markdown",
   "metadata": {},
   "source": [
    "While the performance of the Neural Network model is slightly worse than the Decision Tree model in predicting of the training data, it is the best of all three models in predicting the test data."
   ]
  },
  {
   "cell_type": "markdown",
   "metadata": {},
   "source": [
    "<br>\n",
    "\n",
    "### Conclusion.\n",
    "\n",
    "___\n",
    "\n",
    "In this notebook, I have built three models, Poisson Regression with Polynomial Features, Decision Tree and Neural Network, to make predictions of wind turbine power output for provided wind speed. The model performance evaluation determined that the best results are produced by the Neural Network model, although this model was the slowest to train."
   ]
  },
  {
   "cell_type": "markdown",
   "metadata": {},
   "source": [
    "___\n",
    "\n",
    "<br>\n",
    "\n",
    "### End."
   ]
  }
 ],
 "metadata": {
  "kernelspec": {
   "display_name": "Python 3",
   "language": "python",
   "name": "python3"
  },
  "language_info": {
   "codemirror_mode": {
    "name": "ipython",
    "version": 3
   },
   "file_extension": ".py",
   "mimetype": "text/x-python",
   "name": "python",
   "nbconvert_exporter": "python",
   "pygments_lexer": "ipython3",
   "version": "3.7.4"
  }
 },
 "nbformat": 4,
 "nbformat_minor": 2
}
